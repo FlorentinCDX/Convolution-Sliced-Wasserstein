{
 "cells": [
  {
   "cell_type": "code",
   "execution_count": 1,
   "metadata": {},
   "outputs": [],
   "source": [
    "from random_convolution import *"
   ]
  },
  {
   "cell_type": "markdown",
   "metadata": {},
   "source": [
    "# Toy tests"
   ]
  },
  {
   "cell_type": "code",
   "execution_count": 2,
   "metadata": {},
   "outputs": [
    {
     "name": "stdout",
     "output_type": "stream",
     "text": [
      "[(1, 3, 5, 5), (1, 1, 3, 3), (1, 1, 2, 2)]\n",
      "tensor(1.0000)\n",
      "tensor([[[[0.5244]]]])\n"
     ]
    }
   ],
   "source": [
    "size = (3, 8, 8)\n",
    "n = ceil(log2(size[1]))\n",
    "x = torch.rand(size)\n",
    "x = torch.unsqueeze(x, dim=0)\n",
    "cbs = Conv_Base_Slicer(size, n)\n",
    "\n",
    "print(generate_base_kernel_size(size, n))\n",
    "print(sample_unit_kernel((3, 5, 5)).sum())\n",
    "print(cbs(x))"
   ]
  },
  {
   "cell_type": "code",
   "execution_count": 3,
   "metadata": {},
   "outputs": [
    {
     "name": "stdout",
     "output_type": "stream",
     "text": [
      "torch.Size([10, 1, 1, 1])\n"
     ]
    }
   ],
   "source": [
    "x = torch.rand((10, *size))\n",
    "print(cbs(x).size())"
   ]
  },
  {
   "cell_type": "code",
   "execution_count": 4,
   "metadata": {},
   "outputs": [
    {
     "name": "stdout",
     "output_type": "stream",
     "text": [
      "[(1, 3, 2, 2), (1, 1, 2, 2), (1, 1, 2, 2), (1, 1, 1, 1)]\n",
      "tensor([[[[0.5415]]]])\n",
      "tensor([[[[0.4762]]]])\n"
     ]
    }
   ],
   "source": [
    "size = (3, 10, 10)\n",
    "n = ceil(log2(size[1]))\n",
    "x = torch.rand(size)\n",
    "x = torch.unsqueeze(x, dim=0)\n",
    "css = Conv_Stride_Slicer(size, n)\n",
    "cds = Conv_Dilatation_Slicer(size, n)\n",
    "\n",
    "print(generate_kernel_size(size, n))\n",
    "print(css(x))\n",
    "print(cds(x))"
   ]
  },
  {
   "cell_type": "code",
   "execution_count": 5,
   "metadata": {},
   "outputs": [
    {
     "data": {
      "text/plain": [
       "tensor([0.5177, 0.5244, 0.5086, 0.5121])"
      ]
     },
     "execution_count": 5,
     "metadata": {},
     "output_type": "execute_result"
    }
   ],
   "source": [
    "size = (3, 8, 8)\n",
    "n = ceil(log2(size[1]))\n",
    "x = torch.rand(size)\n",
    "x = torch.unsqueeze(x, dim=0)\n",
    "csw = Conv_Sliced_Wasserstein(size, n, L=4)\n",
    "csw.forward(x)"
   ]
  },
  {
   "cell_type": "code",
   "execution_count": 6,
   "metadata": {},
   "outputs": [
    {
     "name": "stdout",
     "output_type": "stream",
     "text": [
      "tensor([[0.4482, 0.4650, 0.4514, 0.4477],\n",
      "        [0.5103, 0.4882, 0.5042, 0.5088],\n",
      "        [0.4482, 0.4642, 0.4564, 0.4523],\n",
      "        [0.4798, 0.4854, 0.4832, 0.4646],\n",
      "        [0.4296, 0.4388, 0.4354, 0.4353],\n",
      "        [0.5111, 0.5154, 0.5130, 0.5123],\n",
      "        [0.5084, 0.5012, 0.5070, 0.5106],\n",
      "        [0.4974, 0.4745, 0.4927, 0.5012],\n",
      "        [0.5383, 0.5449, 0.5292, 0.5501],\n",
      "        [0.4968, 0.5027, 0.5000, 0.4860]])\n"
     ]
    }
   ],
   "source": [
    "x = torch.rand((10, *size))\n",
    "print(csw(x))"
   ]
  },
  {
   "cell_type": "code",
   "execution_count": 7,
   "metadata": {},
   "outputs": [
    {
     "data": {
      "text/plain": [
       "tensor([0.5310, 0.5007, 0.4934, 0.4924])"
      ]
     },
     "execution_count": 7,
     "metadata": {},
     "output_type": "execute_result"
    }
   ],
   "source": [
    "size = (3, 10, 10)\n",
    "n = ceil(log2(size[1]))\n",
    "csw = Conv_Sliced_Wasserstein(size, n, L=4, type=\"stride\")\n",
    "x = torch.rand((1, *size))\n",
    "csw.forward(x)"
   ]
  },
  {
   "cell_type": "code",
   "execution_count": 8,
   "metadata": {},
   "outputs": [
    {
     "name": "stdout",
     "output_type": "stream",
     "text": [
      "tensor([[0.5723, 0.5036, 0.5627, 0.5571],\n",
      "        [0.5183, 0.5242, 0.5138, 0.4950],\n",
      "        [0.5537, 0.5131, 0.5409, 0.5509],\n",
      "        [0.5051, 0.5005, 0.4739, 0.4964],\n",
      "        [0.5253, 0.5775, 0.5064, 0.5437],\n",
      "        [0.4952, 0.5361, 0.5025, 0.5083],\n",
      "        [0.4640, 0.5281, 0.5445, 0.5055],\n",
      "        [0.4953, 0.4972, 0.5081, 0.5106],\n",
      "        [0.4700, 0.4937, 0.4505, 0.4561],\n",
      "        [0.5309, 0.5441, 0.5476, 0.5377]])\n"
     ]
    }
   ],
   "source": [
    "x = torch.rand((10, *size))\n",
    "print(csw(x))"
   ]
  },
  {
   "cell_type": "code",
   "execution_count": 9,
   "metadata": {},
   "outputs": [
    {
     "data": {
      "text/plain": [
       "tensor([0.5010, 0.5122, 0.4790, 0.5224])"
      ]
     },
     "execution_count": 9,
     "metadata": {},
     "output_type": "execute_result"
    }
   ],
   "source": [
    "size = (3, 10, 10)\n",
    "n = ceil(log2(size[1]))\n",
    "csw = Conv_Sliced_Wasserstein(size, n, L=4, type=\"dilatation\")\n",
    "x = torch.rand((1, *size))\n",
    "csw.forward(x)"
   ]
  },
  {
   "cell_type": "code",
   "execution_count": 10,
   "metadata": {},
   "outputs": [
    {
     "name": "stdout",
     "output_type": "stream",
     "text": [
      "tensor([[0.4749, 0.4964, 0.4005, 0.4859],\n",
      "        [0.4924, 0.5412, 0.4902, 0.5077],\n",
      "        [0.5176, 0.5081, 0.5235, 0.5484],\n",
      "        [0.4569, 0.4706, 0.4343, 0.4661],\n",
      "        [0.5320, 0.5565, 0.5496, 0.4978],\n",
      "        [0.4744, 0.4862, 0.4657, 0.4863],\n",
      "        [0.5090, 0.4668, 0.4989, 0.4474],\n",
      "        [0.4026, 0.3991, 0.4497, 0.4131],\n",
      "        [0.4902, 0.4793, 0.5610, 0.4679],\n",
      "        [0.5034, 0.4976, 0.4961, 0.5258]])\n"
     ]
    }
   ],
   "source": [
    "x = torch.rand((10, *size))\n",
    "print(csw(x))"
   ]
  },
  {
   "cell_type": "code",
   "execution_count": 11,
   "metadata": {},
   "outputs": [
    {
     "data": {
      "text/plain": [
       "tensor([0.0017, 0.0038])"
      ]
     },
     "execution_count": 11,
     "metadata": {},
     "output_type": "execute_result"
    }
   ],
   "source": [
    "size = (3, 10, 10)\n",
    "n = ceil(log2(size[1]))\n",
    "csw = Conv_Sliced_Wasserstein(size, n, L=4, type=\"stride\")\n",
    "mu = torch.rand((2, *size))\n",
    "nu = torch.rand((2, *size))\n",
    "wasserstein_distance(csw.forward(mu), csw.forward(nu))"
   ]
  },
  {
   "cell_type": "markdown",
   "metadata": {},
   "source": [
    "# CelabA tests"
   ]
  },
  {
   "cell_type": "code",
   "execution_count": 12,
   "metadata": {},
   "outputs": [],
   "source": [
    "from torchvision import datasets, transforms"
   ]
  },
  {
   "cell_type": "code",
   "execution_count": 20,
   "metadata": {},
   "outputs": [],
   "source": [
    "transform = transforms.Compose([transforms.Resize(255),\n",
    "                                transforms.CenterCrop(224),\n",
    "                                transforms.ToTensor()])\n",
    "\n",
    "dataset = datasets.ImageFolder('data', transform=transform)"
   ]
  },
  {
   "cell_type": "code",
   "execution_count": 21,
   "metadata": {},
   "outputs": [
    {
     "data": {
      "text/plain": [
       "torch.Size([1, 3, 224, 224])"
      ]
     },
     "execution_count": 21,
     "metadata": {},
     "output_type": "execute_result"
    }
   ],
   "source": [
    "dataloader = torch.utils.data.DataLoader(dataset)\n",
    "dat = iter(dataloader)\n",
    "images1, _ = next(dat)\n",
    "images2, _ = next(dat)\n",
    "images1.shape"
   ]
  },
  {
   "cell_type": "code",
   "execution_count": 22,
   "metadata": {},
   "outputs": [
    {
     "name": "stdout",
     "output_type": "stream",
     "text": [
      "tensor([0.5488, 0.6603, 0.8200, 0.7236, 0.5125, 0.5549, 0.6736, 0.6272, 0.4873,\n",
      "        0.5333])\n",
      "tensor([0.4280, 0.4161, 0.2483, 0.3599, 0.4128, 0.3805, 0.3417, 0.4116, 0.3922,\n",
      "        0.4099])\n"
     ]
    }
   ],
   "source": [
    "size = (3, 224, 224)\n",
    "n = ceil(log2(size[1]))\n",
    "csw = Conv_Sliced_Wasserstein(size, n, L=10, type=\"stride\")\n",
    "print(csw.forward(images1))\n",
    "print(csw.forward(images2))"
   ]
  },
  {
   "cell_type": "code",
   "execution_count": 23,
   "metadata": {},
   "outputs": [],
   "source": [
    "def mono_wasserstein_distance(mu:torch.Tensor, nu:torch.Tensor, p=2):\n",
    "    \"\"\"\n",
    "    Sliced Wasserstein distance between encoded samples and distribution samples\n",
    "\n",
    "    Args:\n",
    "        mu (torch.Tensor): tensor of samples from measure mu\n",
    "        nu (torch.Tensor): tensor of samples from measure nu\n",
    "        p (int): power of distance metric\n",
    "\n",
    "    Return:\n",
    "        torch.Tensor: Tensor of wasserstein distances of size (num_projections, 1)\n",
    "    \"\"\"\n",
    "    wasserstein_distance = (torch.sort(mu).values -\n",
    "                            torch.sort(nu).values)\n",
    "\n",
    "    wasserstein_distance = torch.pow(wasserstein_distance, p)\n",
    "    return wasserstein_distance.mean()"
   ]
  },
  {
   "cell_type": "code",
   "execution_count": 24,
   "metadata": {},
   "outputs": [
    {
     "data": {
      "text/plain": [
       "tensor(0.0596)"
      ]
     },
     "execution_count": 24,
     "metadata": {},
     "output_type": "execute_result"
    }
   ],
   "source": [
    "mono_wasserstein_distance(csw.forward(images1), csw.forward(images2))"
   ]
  },
  {
   "cell_type": "code",
   "execution_count": 25,
   "metadata": {},
   "outputs": [
    {
     "data": {
      "text/plain": [
       "torch.Size([5, 3, 224, 224])"
      ]
     },
     "execution_count": 25,
     "metadata": {},
     "output_type": "execute_result"
    }
   ],
   "source": [
    "dataloader = torch.utils.data.DataLoader(dataset, batch_size=5, shuffle=True)\n",
    "dat = iter(dataloader)\n",
    "images1, _ = next(dat)\n",
    "images2, _ = next(dat)\n",
    "images1.shape"
   ]
  },
  {
   "cell_type": "code",
   "execution_count": 26,
   "metadata": {},
   "outputs": [
    {
     "data": {
      "text/plain": [
       "tensor([0.0693, 0.0038, 0.0314, 0.0047, 0.0711])"
      ]
     },
     "execution_count": 26,
     "metadata": {},
     "output_type": "execute_result"
    }
   ],
   "source": [
    "wasserstein_distance(csw.forward(images1), csw.forward(images2))"
   ]
  }
 ],
 "metadata": {
  "interpreter": {
   "hash": "78b232b9fd37b28f94a5c3660bf5181f1cac1af47c4acdeecafdf1f6dedfd216"
  },
  "kernelspec": {
   "display_name": "Python 3.8.10 ('env-sw': venv)",
   "language": "python",
   "name": "python3"
  },
  "language_info": {
   "codemirror_mode": {
    "name": "ipython",
    "version": 3
   },
   "file_extension": ".py",
   "mimetype": "text/x-python",
   "name": "python",
   "nbconvert_exporter": "python",
   "pygments_lexer": "ipython3",
   "version": "3.8.10"
  },
  "orig_nbformat": 4
 },
 "nbformat": 4,
 "nbformat_minor": 2
}
